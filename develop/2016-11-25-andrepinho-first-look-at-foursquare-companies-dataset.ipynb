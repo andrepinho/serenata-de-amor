{
 "cells": [
  {
   "cell_type": "code",
   "execution_count": 1,
   "metadata": {
    "collapsed": false
   },
   "outputs": [],
   "source": [
    "import numpy as np\n",
    "import pandas as pd\n",
    "import os.path\n",
    "import re"
   ]
  },
  {
   "cell_type": "code",
   "execution_count": 2,
   "metadata": {
    "collapsed": true
   },
   "outputs": [],
   "source": [
    "DATA_DIR = '../data'"
   ]
  },
  {
   "cell_type": "code",
   "execution_count": 3,
   "metadata": {
    "collapsed": false
   },
   "outputs": [],
   "source": [
    "def find_newest_file(name):\n",
    "    \"\"\"\n",
    "    Assuming that the files will be in the form of :\n",
    "    yyyy-mm-dd-type_of_file.xz we can try to find the newest file\n",
    "    based on the date, but if the file doesn't exist fallback to another\n",
    "    date until all dates are exhausted\n",
    "    \"\"\"\n",
    "    date_regex = re.compile('\\d{4}-\\d{2}-\\d{2}')\n",
    "\n",
    "    matches = (date_regex.findall(f) for f in os.listdir(DATA_DIR))\n",
    "    dates = sorted(set([l[0] for l in matches if l]), reverse=True)\n",
    "    for date in dates:\n",
    "        filename = os.path.join(DATA_DIR, '{}-{}.xz'.format(date, name))\n",
    "        if os.path.isfile(filename):\n",
    "            return filename\n",
    "    return None"
   ]
  },
  {
   "cell_type": "code",
   "execution_count": 11,
   "metadata": {
    "collapsed": false
   },
   "outputs": [],
   "source": [
    "data = pd.read_csv(find_newest_file('foursquare-companies'), dtype={'clean_cnpj': np.str})"
   ]
  },
  {
   "cell_type": "code",
   "execution_count": 12,
   "metadata": {
    "collapsed": false
   },
   "outputs": [
    {
     "data": {
      "text/plain": [
       "1300"
      ]
     },
     "execution_count": 12,
     "metadata": {},
     "output_type": "execute_result"
    }
   ],
   "source": [
    "# How many companies were fetched?\n",
    "len(data['cnpj'].unique())"
   ]
  },
  {
   "cell_type": "code",
   "execution_count": 6,
   "metadata": {
    "collapsed": false
   },
   "outputs": [
    {
     "data": {
      "text/plain": [
       "942"
      ]
     },
     "execution_count": 6,
     "metadata": {},
     "output_type": "execute_result"
    }
   ],
   "source": [
    "# How many companies have price data?\n",
    "len(data['price.tier'].dropna())"
   ]
  },
  {
   "cell_type": "code",
   "execution_count": 7,
   "metadata": {
    "collapsed": false
   },
   "outputs": [
    {
     "data": {
      "text/plain": [
       "Moderate          536\n",
       "Cheap             187\n",
       "Expensive         186\n",
       "Very Expensive     33\n",
       "Name: price.message, dtype: int64"
      ]
     },
     "execution_count": 7,
     "metadata": {},
     "output_type": "execute_result"
    }
   ],
   "source": [
    "# How are those prices distributed?\n",
    "data['price.message'].value_counts()"
   ]
  },
  {
   "cell_type": "code",
   "execution_count": 8,
   "metadata": {
    "collapsed": false
   },
   "outputs": [
    {
     "name": "stdout",
     "output_type": "stream",
     "text": [
      "2016-11-29T03:29:43.145063\n",
      "2016-11-29T02:49:19.725351\n"
     ]
    }
   ],
   "source": [
    "# How long did it take to fetch the first 1000 companies?\n",
    "print(data.iloc[1000]['scraped_at'])\n",
    "print(data.iloc[0]['scraped_at'])"
   ]
  },
  {
   "cell_type": "code",
   "execution_count": 9,
   "metadata": {
    "collapsed": false
   },
   "outputs": [
    {
     "name": "stderr",
     "output_type": "stream",
     "text": [
      "/home/andre/.anaconda3/lib/python3.5/site-packages/IPython/core/interactiveshell.py:2717: DtypeWarning: Columns (5) have mixed types. Specify dtype option on import or set low_memory=False.\n",
      "  interactivity=interactivity, compiler=compiler, result=result)\n"
     ]
    }
   ],
   "source": [
    "# Loading reimbursements dataset to compare how much data we're missing from meal_reimbursements.\n",
    "reimbursements = pd.read_csv(find_newest_file('reimbursements'), dtype={'cnpj_cpf': np.str})\n",
    "meals = reimbursements[reimbursements['subquota_description'] == 'Congressperson meal']"
   ]
  },
  {
   "cell_type": "code",
   "execution_count": 10,
   "metadata": {
    "collapsed": false
   },
   "outputs": [
    {
     "data": {
      "text/plain": [
       "18891"
      ]
     },
     "execution_count": 10,
     "metadata": {},
     "output_type": "execute_result"
    }
   ],
   "source": [
    "# How many companies are left to be fetched?\n",
    "remaining = meals[~meals['cnpj_cpf'].isin(data['cnpj'])]\n",
    "len(meals[~meals['cnpj_cpf'].isin(data['clean_cnpj'])]['cnpj_cpf'].unique())"
   ]
  }
 ],
 "metadata": {
  "anaconda-cloud": {},
  "kernelspec": {
   "display_name": "Python [conda root]",
   "language": "python",
   "name": "conda-root-py"
  },
  "language_info": {
   "codemirror_mode": {
    "name": "ipython",
    "version": 3
   },
   "file_extension": ".py",
   "mimetype": "text/x-python",
   "name": "python",
   "nbconvert_exporter": "python",
   "pygments_lexer": "ipython3",
   "version": "3.5.2"
  }
 },
 "nbformat": 4,
 "nbformat_minor": 1
}
